{
 "cells": [
  {
   "cell_type": "markdown",
   "metadata": {},
   "source": [
    "# Project 1: Profitable App Profiles for the App Store and Google Play Markets\n",
    "\n",
    "### Project goals\n",
    "I work for a company which builds Android and IOS mobile apps, and make them available on their respective stores. The apps are free to download and install, with our main source of revenue being in-app adds. So, the number of app users determine our revenue. The **goal** is to analyze which apps are likely to attract more users. To do this, we need to colelct and analyze data about both mobile apps on Google play store and IOS play store.\n",
    "\n",
    "### Dataset\n",
    "The dataset and the corresponding documentation for the Android apps from the Google Play store can be downloaded from this [link](https://www.kaggle.com/datasets/lava18/google-play-store-apps).\n",
    "Similarly, the dataset and the corresponding documentation for the Android apps from the IOS appstore can be downloaded from this [link](https://www.kaggle.com/datasets/ramamet4/app-store-apple-data-set-10k-apps).\n",
    "\n",
    "### Prerequisites\n",
    "1. The datset must be free.\n",
    "2. The dataset must be in English."
   ]
  },
  {
   "cell_type": "markdown",
   "metadata": {},
   "source": [
    "## 1. Opening and Exploring the datasets."
   ]
  },
  {
   "cell_type": "code",
   "execution_count": 1,
   "metadata": {},
   "outputs": [],
   "source": [
    "from csv import reader\n",
    "\n",
    "#Importing the Google Playstore dataset\n",
    "opened_file = open('googleplaystore.csv')\n",
    "read_file = reader(opened_file)\n",
    "android_dataset = list(read_file)\n",
    "\n",
    "#importing the IOS appstore dataset\n",
    "opened_file = open('AppleStore.csv')\n",
    "read_file = reader(opened_file)\n",
    "ios_dataset = list(read_file)"
   ]
  },
  {
   "cell_type": "code",
   "execution_count": 2,
   "metadata": {},
   "outputs": [
    {
     "name": "stdout",
     "output_type": "stream",
     "text": [
      "Current Dataset\n",
      "Google Play Store Dataset\n",
      "\n",
      "\n",
      "Header\n",
      "['App', 'Category', 'Rating', 'Reviews', 'Size', 'Installs', 'Type', 'Price', 'Content Rating', 'Genres', 'Last Updated', 'Current Ver', 'Android Ver']\n",
      "\n",
      "\n",
      "Number of Rows\n",
      "13\n",
      "\n",
      "\n",
      "['Photo Editor & Candy Camera & Grid & ScrapBook', 'ART_AND_DESIGN', '4.1', '159', '19M', '10,000+', 'Free', '0', 'Everyone', 'Art & Design', 'January 7, 2018', '1.0.0', '4.0.3 and up']\n",
      "\n",
      "\n",
      "['Coloring book moana', 'ART_AND_DESIGN', '3.9', '967', '14M', '500,000+', 'Free', '0', 'Everyone', 'Art & Design;Pretend Play', 'January 15, 2018', '2.0.0', '4.0.3 and up']\n",
      "\n",
      "\n",
      "['U Launcher Lite – FREE Live Cool Themes, Hide Apps', 'ART_AND_DESIGN', '4.7', '87510', '8.7M', '5,000,000+', 'Free', '0', 'Everyone', 'Art & Design', 'August 1, 2018', '1.2.4', '4.0.3 and up']\n",
      "\n",
      "\n",
      "['Sketch - Draw & Paint', 'ART_AND_DESIGN', '4.5', '215644', '25M', '50,000,000+', 'Free', '0', 'Teen', 'Art & Design', 'June 8, 2018', 'Varies with device', '4.2 and up']\n",
      "\n",
      "\n",
      "['Pixel Draw - Number Art Coloring Book', 'ART_AND_DESIGN', '4.3', '967', '2.8M', '100,000+', 'Free', '0', 'Everyone', 'Art & Design;Creativity', 'June 20, 2018', '1.1', '4.4 and up']\n",
      "\n",
      "\n",
      "None\n",
      "Current Dataset\n",
      "Apple App Store Dataset\n",
      "\n",
      "\n",
      "Header\n",
      "['id', 'track_name', 'size_bytes', 'currency', 'price', 'rating_count_tot', 'rating_count_ver', 'user_rating', 'user_rating_ver', 'ver', 'cont_rating', 'prime_genre', 'sup_devices.num', 'ipadSc_urls.num', 'lang.num', 'vpp_lic']\n",
      "\n",
      "\n",
      "Number of Rows\n",
      "16\n",
      "\n",
      "\n",
      "['284882215', 'Facebook', '389879808', 'USD', '0.0', '2974676', '212', '3.5', '3.5', '95.0', '4+', 'Social Networking', '37', '1', '29', '1']\n",
      "\n",
      "\n",
      "['389801252', 'Instagram', '113954816', 'USD', '0.0', '2161558', '1289', '4.5', '4.0', '10.23', '12+', 'Photo & Video', '37', '0', '29', '1']\n",
      "\n",
      "\n",
      "['529479190', 'Clash of Clans', '116476928', 'USD', '0.0', '2130805', '579', '4.5', '4.5', '9.24.12', '9+', 'Games', '38', '5', '18', '1']\n",
      "\n",
      "\n",
      "['420009108', 'Temple Run', '65921024', 'USD', '0.0', '1724546', '3842', '4.5', '4.0', '1.6.2', '9+', 'Games', '40', '5', '1', '1']\n",
      "\n",
      "\n",
      "['284035177', 'Pandora - Music & Radio', '130242560', 'USD', '0.0', '1126879', '3594', '4.0', '4.5', '8.4.1', '12+', 'Music', '37', '4', '1', '1']\n",
      "\n",
      "\n",
      "None\n"
     ]
    }
   ],
   "source": [
    "#exploring the datasets\n",
    "\n",
    "#funtion to explore the dataset\n",
    "\n",
    "def explore_dataset(dataset, title, number_of_rows, header = True):\n",
    "    print('Current Dataset')\n",
    "    print(title)\n",
    "    print('\\n')\n",
    "    if header:\n",
    "        print('Header')\n",
    "        print(dataset[0])\n",
    "        print('\\n')\n",
    "        print('Number of Rows')\n",
    "        print(len(dataset[0]))\n",
    "        print('\\n')\n",
    "        for row in dataset[1:number_of_rows+1]:\n",
    "            print(row)\n",
    "            print('\\n')\n",
    "        \n",
    "print(explore_dataset(android_dataset, 'Google Play Store Dataset', 5))\n",
    "print(explore_dataset(ios_dataset, 'Apple App Store Dataset', 5))"
   ]
  },
  {
   "cell_type": "markdown",
   "metadata": {},
   "source": [
    "## 2. Data Cleaning."
   ]
  },
  {
   "cell_type": "markdown",
   "metadata": {},
   "source": [
    "### 2.1 Deleting Wrong Data.\n",
    "\n",
    "In this step, we delete the data record which is entered wrongly. For instance, in the `android_dataset`, there is a problem in the data record 10472."
   ]
  },
  {
   "cell_type": "code",
   "execution_count": 3,
   "metadata": {},
   "outputs": [
    {
     "name": "stdout",
     "output_type": "stream",
     "text": [
      "['App', 'Category', 'Rating', 'Reviews', 'Size', 'Installs', 'Type', 'Price', 'Content Rating', 'Genres', 'Last Updated', 'Current Ver', 'Android Ver']\n",
      "['Life Made WI-Fi Touchscreen Photo Frame', '1.9', '19', '3.0M', '1,000+', 'Free', '0', 'Everyone', '', 'February 11, 2018', '1.0.19', '4.0 and up']\n",
      "12\n",
      "['App', 'Category', 'Rating', 'Reviews', 'Size', 'Installs', 'Type', 'Price', 'Content Rating', 'Genres', 'Last Updated', 'Current Ver', 'Android Ver']\n",
      "['osmino Wi-Fi: free WiFi', 'TOOLS', '4.2', '134203', '4.1M', '10,000,000+', 'Free', '0', 'Everyone', 'Tools', 'August 7, 2018', '6.06.14', '4.4 and up']\n",
      "13\n"
     ]
    }
   ],
   "source": [
    "print(android_dataset[0])\n",
    "print(android_dataset[10473])\n",
    "print(len(android_dataset[10473])) #There are only 12 data records. So, the content rating is missing\n",
    "\n",
    "del android_dataset[10473]\n",
    "\n",
    "print(android_dataset[0])\n",
    "print(android_dataset[10473])\n",
    "print(len(android_dataset[10473]))"
   ]
  },
  {
   "cell_type": "markdown",
   "metadata": {},
   "source": [
    "### 2.2 Removing Duplicate entries\n",
    "\n",
    "In this step, we remove the apps which have multiple entries. The criteria for removing the duplicates is the number of reviews with a reasoning that the more recent data would have more reviews. So, we keep the dataset with most reviews and delete the others."
   ]
  },
  {
   "cell_type": "code",
   "execution_count": null,
   "metadata": {},
   "outputs": [],
   "source": [
    "# Checking for the duplicates\n",
    "def check_duplicates(dataset, appsname_index_number, dataset_name):\n",
    "    duplicate_apps = []\n",
    "    non_duplicate_apps = []\n",
    "    for row in dataset[1:]:\n",
    "        app_name = row[appsname_index_number]\n",
    "        if app_name in non_duplicate_apps:\n",
    "            duplicate_apps.append(app_name)\n",
    "        else:\n",
    "            non_duplicate_apps.append(app_name)\n",
    "    print(dataset_name)\n",
    "    print('The Duplicate Apps')\n",
    "    print('The number of duplicate apps are ',len(duplicate_apps))\n",
    "    return duplicate_apps\n",
    "\n",
    "android_duplicate_apps = check_duplicates(android_dataset, 0, 'Google dataset')\n",
    "print('\\n')\n",
    "ios_duplicate_apps = check_duplicates(ios_dataset, 1, 'IOS dataset')"
   ]
  },
  {
   "cell_type": "code",
   "execution_count": null,
   "metadata": {},
   "outputs": [],
   "source": [
    "#Removing the duplicates\n",
    "\n",
    "def remove_duplicates(dataset, appsname_index_number, reviews_index_number):\n",
    "    reviews_max = {}\n",
    "    for row in dataset[1:]:\n",
    "        name = row[appsname_index_number]\n",
    "        n_reviews = float(row[reviews_index_number])\n",
    "        \n",
    "        if name in reviews_max and reviews_max[name] < n_reviews:\n",
    "            reviews_max[name] = n_reviews\n",
    "        elif name not in reviews_max:\n",
    "            reviews_max[name] = n_reviews\n",
    "        \n",
    "    clean_data = []\n",
    "    already_added = []\n",
    "\n",
    "    for row in dataset[1:]:\n",
    "        name = row[appsname_index_number]\n",
    "        n_reviews = float(row[reviews_index_number])\n",
    "    \n",
    "        if n_reviews == reviews_max[name] and name not in already_added:\n",
    "            clean_data.append(row)\n",
    "            already_added.append(name)\n",
    "            \n",
    "    return clean_data\n",
    "\n",
    "android_dataset_no_duplicates = remove_duplicates(android_dataset, 0, 3)\n",
    "print(len(android_dataset_no_duplicates))\n",
    "\n",
    "ios_dataset_no_duplicates = remove_duplicates(ios_dataset, 1, 5)\n",
    "print(len(ios_dataset_no_duplicates))"
   ]
  },
  {
   "cell_type": "markdown",
   "metadata": {},
   "source": [
    "### 2.3 Removing Non-English Apps.\n",
    "\n",
    "At our company, we only deal with english apps. So, we need to remove the apps which are not available in English. To do this, we use ``ord()`` function. This returns the ASCII value of the element. For english characters, the value is not greater than 127. To take into account the smilies and sub\\super scripts, we will remove an app if the name has more than 3 non-english characters."
   ]
  },
  {
   "cell_type": "code",
   "execution_count": null,
   "metadata": {},
   "outputs": [],
   "source": [
    "#Check if the app is english or not\n",
    "def english_or_not(string):\n",
    "    total = 0\n",
    "    for character in string:\n",
    "        \n",
    "        if ord(character) > 127:\n",
    "            total += 1\n",
    "            \n",
    "        if total > 3:\n",
    "            return False\n",
    "    return True\n",
    "\n",
    "print(english_or_not('Instagram'))\n",
    "print(english_or_not('爱奇艺PPS -《欢乐颂2》电视剧热播'))\n",
    "print(english_or_not('Docs To Go™ Free Office Suite'))\n",
    "print(english_or_not('Instachat 😜'))"
   ]
  },
  {
   "cell_type": "code",
   "execution_count": null,
   "metadata": {},
   "outputs": [],
   "source": [
    "# Function to check if the app name is English\n",
    "def english_or_not(string):\n",
    "    total = 0\n",
    "    for character in string:\n",
    "        if ord(character) > 127:\n",
    "            total += 1\n",
    "        if total > 3:\n",
    "            return False\n",
    "    return True\n",
    "\n",
    "# Remove non-English apps from Android dataset\n",
    "android_dataset_english = []\n",
    "for row in android_dataset_no_duplicates:\n",
    "    name = row[0]\n",
    "    if english_or_not(name):\n",
    "        android_dataset_english.append(row)\n",
    "\n",
    "# Remove non-English apps from iOS dataset\n",
    "ios_dataset_english = []\n",
    "for row in ios_dataset_no_duplicates:\n",
    "    name = row[1]\n",
    "    if english_or_not(name):\n",
    "        ios_dataset_english.append(row)  \n",
    "        \n",
    "# Print the number of English apps remaining\n",
    "print(len(android_dataset_english))\n",
    "print(len(ios_dataset_english))\n"
   ]
  },
  {
   "cell_type": "markdown",
   "metadata": {},
   "source": [
    "### 2.4 Isolating the free Apps."
   ]
  },
  {
   "cell_type": "code",
   "execution_count": null,
   "metadata": {},
   "outputs": [],
   "source": [
    "android_final = []\n",
    "ios_final = []\n",
    "\n",
    "for app in android_dataset_english:\n",
    "    price = app[7]\n",
    "    if price == '0':\n",
    "        android_final.append(app)\n",
    "        \n",
    "for app in ios_dataset_english:\n",
    "    price = app[4]\n",
    "    if price == '0.0':\n",
    "        ios_final.append(app)\n",
    "        \n",
    "print(len(android_final))\n",
    "print(len(ios_final))"
   ]
  },
  {
   "cell_type": "markdown",
   "metadata": {},
   "source": [
    "## 3. Data Analysis"
   ]
  },
  {
   "cell_type": "markdown",
   "metadata": {},
   "source": [
    "### 3.1 Most Common app by Genre\n",
    "\n",
    "The end goal is to add the newly developed app on both the Play store and the App store. So, we need to find the app profiles which are successful in both the markets. So, we start by determining the most common genre for each market by using frequency table. By default, the frequency tables are not sorted. We try to sort them for easy readibility."
   ]
  },
  {
   "cell_type": "code",
   "execution_count": null,
   "metadata": {},
   "outputs": [],
   "source": [
    "# Google play store\n",
    "android_genre_count = {}\n",
    "\n",
    "for row in android_final:\n",
    "    genre = row[1]\n",
    "    if genre in android_genre_count:\n",
    "        android_genre_count[genre] += 1\n",
    "    else:\n",
    "        android_genre_count[genre] = 1\n",
    "        \n",
    "# IOS App store\n",
    "ios_genre_count = {}\n",
    "\n",
    "for row in ios_final:\n",
    "    genre = row[-5]\n",
    "    if genre in ios_genre_count:\n",
    "        ios_genre_count[genre] += 1\n",
    "    else:\n",
    "        ios_genre_count[genre] = 1  \n",
    "        \n",
    "#in percentages: frequency table\n",
    "def freq_table_percentages(dataset, index):\n",
    "    table = {}\n",
    "    total = 0\n",
    "    \n",
    "    for row in dataset:\n",
    "        total += 1\n",
    "        value = row[index]\n",
    "        if value in table:\n",
    "            table[value] += 1\n",
    "        else:\n",
    "            table[value] = 1\n",
    "            \n",
    "    table_percentages = {}\n",
    "    \n",
    "    for value in table:\n",
    "        percentages = (table[value]/total)*100\n",
    "        table_percentages[value] = percentages\n",
    "    print(total)\n",
    "    return table_percentages\n",
    "\n",
    "def freq_table(dataset, index):\n",
    "    table = {}\n",
    "    total = 0\n",
    "    \n",
    "    for row in dataset:\n",
    "        total += 1\n",
    "        value = row[index]\n",
    "        if value in table:\n",
    "            table[value] += 1\n",
    "        else:\n",
    "            table[value] = 1\n",
    "            \n",
    "            \n",
    "    return table\n",
    "\n",
    "android_genre_percentages = freq_table_percentages(android_final, 1)\n",
    "ios_genre_percentages = freq_table_percentages(ios_final, -5)\n"
   ]
  },
  {
   "cell_type": "code",
   "execution_count": null,
   "metadata": {},
   "outputs": [],
   "source": [
    "#printing the frequency table after sorting them\n",
    "def display_table(dataset, index):\n",
    "    table = freq_table_percentages(dataset, index)\n",
    "    table_display = []\n",
    "    \n",
    "    for key in table:\n",
    "        key_val_tuple = (table[key], key)\n",
    "        table_display.append(key_val_tuple)\n",
    "        \n",
    "    table_sorted = sorted(table_display, reverse = True)\n",
    "    for entry in table_sorted:\n",
    "        print(entry[1], ':', entry[0])\n",
    "        \n",
    "        \n",
    "print(display_table(android_final, 1))\n",
    "print('\\n')\n",
    "print(display_table(ios_final, -5))\n",
    "print('\\n')\n",
    "print(display_table(android_final, -4))"
   ]
  },
  {
   "cell_type": "markdown",
   "metadata": {},
   "source": [
    "### Discussion\n",
    "The analysis of the data shows that the AppStore is dominated by Games. THe Google playstore is more balanced with Family, Game and tools having similar polularity. On a closer look on the google play store, we see that the Family category have games in it. On a whole, Games seems to be the most common genre for free and english apps on both the App store and Play store. Bu, this tells us only about which apps are present more in number and not ablut the popularity of the apps in terms of the users using it. "
   ]
  },
  {
   "cell_type": "markdown",
   "metadata": {},
   "source": [
    "### 3.2 Most popular app by Genre\n",
    "Analyzing this metric gives us an idea of average user ratings per app genre. This can be thought of as the total number of user ratings or installs."
   ]
  },
  {
   "cell_type": "markdown",
   "metadata": {},
   "source": [
    "### 3.2.1 In AppStore of IOS"
   ]
  },
  {
   "cell_type": "code",
   "execution_count": null,
   "metadata": {},
   "outputs": [],
   "source": [
    "genres_ios = freq_table(ios_final, -5)\n",
    "\n",
    "\n",
    "for genre in genres_ios:\n",
    "    total = 0\n",
    "    genre_count = 0\n",
    "    \n",
    "    for row in ios_final:\n",
    "        genre_1 = row[-5]\n",
    "        \n",
    "        if genre == genre_1:\n",
    "            n_ratings = float(row[5])\n",
    "            total += n_ratings\n",
    "            genre_count += 1\n",
    "    avg_ratings = total / genre_count\n",
    "    print(genre + ' : ' + str(avg_ratings))\n",
    "        \n"
   ]
  },
  {
   "cell_type": "code",
   "execution_count": null,
   "metadata": {},
   "outputs": [],
   "source": [
    "for app in ios_final:\n",
    "    if app[-5] == 'Navigation':\n",
    "        print(app[1], ':', app[5])"
   ]
  },
  {
   "cell_type": "code",
   "execution_count": null,
   "metadata": {},
   "outputs": [],
   "source": [
    "for app in ios_final:\n",
    "    if app[-5] == 'Social Networking':\n",
    "        print(app[1], ':', app[5])"
   ]
  },
  {
   "cell_type": "code",
   "execution_count": null,
   "metadata": {},
   "outputs": [],
   "source": [
    "for app in ios_final:\n",
    "    if app[-5] == 'Reference':\n",
    "        print(app[1], ':', app[5])"
   ]
  },
  {
   "cell_type": "markdown",
   "metadata": {},
   "source": [
    "### Discussion\n",
    "The nagivation apps seems to highest average customer ratings. But, this data is highly skewed because of Waze and Google maps. On an other hand, Social Networking apps are more balanced with most ratings belonging to Facebook and Pininterest. Similarly, in Reference genre, the Bible and dictornary skews up the entire ratings. This presents an interesting idea that a famous or much read book can be turned into an app. "
   ]
  },
  {
   "cell_type": "markdown",
   "metadata": {},
   "source": [
    "### 3.2.2 In PlayStore of Google"
   ]
  },
  {
   "cell_type": "code",
   "execution_count": null,
   "metadata": {},
   "outputs": [],
   "source": [
    "categories_android = freq_table(android_final, 1)\n",
    "\n",
    "for category in categories_android:\n",
    "    total = 0\n",
    "    len_category = 0\n",
    "    for app in android_final:\n",
    "        category_app = app[1]\n",
    "        if category_app == category:            \n",
    "            n_installs = app[5]\n",
    "            n_installs = n_installs.replace(',', '')\n",
    "            n_installs = n_installs.replace('+', '')\n",
    "            total += float(n_installs)\n",
    "            len_category += 1\n",
    "    avg_n_installs = total / len_category\n",
    "    print(category, ':', avg_n_installs)"
   ]
  },
  {
   "cell_type": "code",
   "execution_count": null,
   "metadata": {},
   "outputs": [],
   "source": [
    "for app in android_final:\n",
    "    if app[1] == 'COMMUNICATION' and (app[5] == '1,000,000,000+'\n",
    "                                      or app[5] == '500,000,000+'\n",
    "                                      or app[5] == '100,000,000+'):\n",
    "        print(app[0], ':', app[5])"
   ]
  },
  {
   "cell_type": "code",
   "execution_count": null,
   "metadata": {},
   "outputs": [],
   "source": [
    "for app in android_final:\n",
    "    if app[1] == 'BOOKS_AND_REFERENCE':\n",
    "        print(app[0], ':', app[5])"
   ]
  },
  {
   "cell_type": "code",
   "execution_count": null,
   "metadata": {},
   "outputs": [],
   "source": [
    "for app in android_final:\n",
    "    if app[1] == 'BOOKS_AND_REFERENCE' and (app[5] == '1,000,000,000+'\n",
    "                                            or app[5] == '500,000,000+'\n",
    "                                            or app[5] == '100,000,000+'):\n",
    "        print(app[0], ':', app[5])"
   ]
  },
  {
   "cell_type": "markdown",
   "metadata": {},
   "source": [
    "### Discussion\n",
    "The communication apps have the most customer ratings, but this statistic is highly skewed due to a group of most-downloaded apps such as facebook, Whatsapp and Skype. This number would come down dramatically if these popular apps would not be considered. It is also found that, on android, the books and reference apps have the highest downloads. But, due to the large number of libraries present in the Google play store, it would become necessary to have a differentiator between our app and other apps by adding a few extra features. "
   ]
  },
  {
   "cell_type": "markdown",
   "metadata": {},
   "source": [
    "## Conclusion\n",
    "On both the appstore and play store, the apps concerned with online reading or e-books are most downloaded. This might be a niche market to explore and might actually be practical to develop an app in this genre. Other genres might be possible but difficult to monitize as social newtworking apps have a high customer churn. other apps like weather and finance apps might need more initial capital upfront to hire domain experts. But, it is important to have a differentiating feature between our app and other apps on the market."
   ]
  }
 ],
 "metadata": {
  "kernelspec": {
   "display_name": "Python 3",
   "language": "python",
   "name": "python3"
  },
  "language_info": {
   "codemirror_mode": {
    "name": "ipython",
    "version": 3
   },
   "file_extension": ".py",
   "mimetype": "text/x-python",
   "name": "python",
   "nbconvert_exporter": "python",
   "pygments_lexer": "ipython3",
   "version": "3.8.2"
  }
 },
 "nbformat": 4,
 "nbformat_minor": 2
}
